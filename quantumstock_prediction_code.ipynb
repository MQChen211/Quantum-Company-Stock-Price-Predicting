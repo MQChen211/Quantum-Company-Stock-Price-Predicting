{
  "nbformat": 4,
  "nbformat_minor": 0,
  "metadata": {
    "colab": {
      "name": "Untitled0.ipynb",
      "provenance": [],
      "collapsed_sections": []
    },
    "kernelspec": {
      "name": "python3",
      "display_name": "Python 3"
    },
    "language_info": {
      "name": "python"
    }
  },
  "cells": [
    {
      "cell_type": "markdown",
      "source": [
        "Quantum physics has changed our lives. Quantum computing and quantum communication\n",
        "would impact many sectors, including biotechnology, chemistry industry, energy, finance,\n",
        "security, etc. The race is underway. Investments to the quantum research and technology from\n",
        "governments, research institutions, companies all around the world increasing rapidly, and\n",
        "this leads to a rapid growth of the quantum computing market.\n",
        "\n",
        "This project seeks to utilize Long-Short Term Memory (LSTM) model, to predict stock prices.\n",
        "We use Keras to build a LSTM model to predict stock prices with historical opening, closing\n",
        "prices and trading volume, and visualize and compare both the predicted price values over\n",
        "time. We also compared the result of linear regression with LSTM."
      ],
      "metadata": {
        "id": "ahTDh6-ndPsw"
      }
    },
    {
      "cell_type": "code",
      "execution_count": null,
      "metadata": {
        "id": "F1ftimh7eCiO"
      },
      "outputs": [],
      "source": [
        "import numpy as np\n",
        "import pandas as pd\n",
        "import matplotlib.pyplot as plt\n",
        "import sklearn\n",
        "import math\n",
        "\n",
        "from sklearn.metrics import mean_squared_error\n",
        "from sklearn.metrics import mean_absolute_percentage_error\n",
        "\n",
        "from math import sqrt\n",
        "from sklearn import preprocessing\n",
        "from sklearn.preprocessing import MinMaxScaler\n",
        "from sklearn.model_selection import TimeSeriesSplit\n",
        "from sklearn import linear_model\n",
        "from sklearn.linear_model import LinearRegression\n",
        "\n",
        "from keras.models import Sequential\n",
        "from keras.layers import Dense\n",
        "from keras.layers import LSTM\n",
        "from keras.layers import Dropout\n",
        "from keras.layers import Activation\n",
        "from keras.utils.vis_utils import plot_model\n",
        "\n",
        "stocks = pd.read_csv('quantumstock1.csv')"
      ]
    },
    {
      "cell_type": "markdown",
      "source": [
        "The columns of the dataset are:\n",
        "\n",
        "*  Date -- The date of the record.\n",
        "*  Open -- The opening price of the day (when trading starts).\n",
        "*  High -- The highest trade price during the day.\n",
        "*  Low -- The lowest trade price during the day.\n",
        "*  Close -- The closing price for the day (when trading is finished).\n",
        "*  Adj Close -- The daily closing price, adjusted retroactively to include any corporate actions.\n",
        "*  Volume -- The number of shares traded.\n",
        "\n"
      ],
      "metadata": {
        "id": "Q9NIytykcq3R"
      }
    },
    {
      "cell_type": "code",
      "source": [
        "#take ACN as an example\n",
        "stock_data = stocks.loc[stocks['ticker'] == 'ACN']\n",
        "\n",
        "#check raw data\n",
        "print('data shape:', stock_data.shape)\n",
        "print(stock_data.head())\n",
        "\n",
        "#figure of ACN close price \n",
        "df = stock_data['close']\n",
        "df = df.plot( title=\"ACN stock price\")\n",
        "df.set_ylabel(\"Close Price\")\n",
        "\n",
        "plt.show()"
      ],
      "metadata": {
        "colab": {
          "base_uri": "https://localhost:8080/",
          "height": 400
        },
        "id": "Wv19rgQ_lUWT",
        "outputId": "39f751be-928a-4a38-ade8-915f02bc5c17"
      },
      "execution_count": null,
      "outputs": [
        {
          "output_type": "stream",
          "name": "stdout",
          "text": [
            "data shape: (5190, 8)\n",
            "            Date   open   high    low  close   adjclose      volume ticker\n",
            "9592  2001-07-19  15.10  15.29  15.00  15.17  11.223610  34994300.0    ACN\n",
            "9593  2001-07-20  15.05  15.05  14.80  15.01  11.105230   9238500.0    ACN\n",
            "9594  2001-07-23  15.00  15.01  14.55  15.00  11.097830   7501000.0    ACN\n",
            "9595  2001-07-24  14.95  14.97  14.70  14.86  10.994254   3537300.0    ACN\n",
            "9596  2001-07-25  14.70  14.95  14.65  14.95  11.060840   4208100.0    ACN\n"
          ]
        },
        {
          "output_type": "display_data",
          "data": {
            "text/plain": [
              "<Figure size 432x288 with 1 Axes>"
            ],
            "image/png": "[encoded data removed]"
          },
          "metadata": {
            "needs_background": "light"
          }
        }
      ]
    },
    {
      "cell_type": "markdown",
      "source": [
        "We normalize the dataset with MinMaxScaler function of sklearn library and split the dataset into training and testing sets with percentage of $90\\%$ and $10\\%$. The performance of our model is measured by root-mean-square deviation and mean absolute percentage error, which are given by equations below:\n",
        "\n",
        "\n",
        "\\begin{equation}\n",
        "    RMSE = \\sqrt{\\sum_{i=1}^n \\frac{(\\hat{y}_i - y_i)^2}{n}}\n",
        "\\end{equation}\n",
        "\n",
        "\\begin{equation}\n",
        "    MAPE = \\frac{100\\%}{n}\\sum_{i=1}^n \\mid \\frac{(\\hat{y}_i - y_i)^2}{y_i}\\mid\n",
        "\\end{equation}"
      ],
      "metadata": {
        "id": "9D3bPJ51dOPM"
      }
    },
    {
      "cell_type": "code",
      "source": [
        "#normalization\n",
        "def normalize_data(data, features = ['open','close', 'volume']):\n",
        "  scaler = MinMaxScaler()\n",
        "  data = scaler.fit_transform(data[features])\n",
        "  data = pd.DataFrame(data)\n",
        "  data.columns = features\n",
        "  return data\n"
      ],
      "metadata": {
        "id": "4cshfwRvpAqA"
      },
      "execution_count": null,
      "outputs": []
    },
    {
      "cell_type": "markdown",
      "source": [
        "Stock price is time-series data as it is collected sequentially in time, and recorded in a specific time interval. Therefore, we apply linear regression to carry out the trend of  closing prices. \n",
        "\n",
        "However, linear regression with time series has a much flatter trend, and is unable to reflect the trend of the stock prices very well. In order to solve this problem, we carried out an improved linear regression algorithm by constructing Simple Moving Average (SMA). SMA, calculated by equation below, is the average price over a specified time period. We use a 30-day moving average as input to predict the close price.\n",
        "\n",
        "\\begin{equation}\n",
        "    SMA = \\frac{1}{n} \\sum_{i=1}^n P_i\n",
        "\\end{equation}"
      ],
      "metadata": {
        "id": "vTiIIc4SiOnm"
      }
    },
    {
      "cell_type": "code",
      "source": [
        "#split training set and test set for linear regression\n",
        "def split_data_linear(input,output,test_size):\n",
        "    split = int(math.floor(len(data) * test_size))\n",
        "    X_train = input[:-split]\n",
        "    X_test = input[-split:]\n",
        "\n",
        "    y_train = output[:-split]\n",
        "    y_test = output[-split:]\n",
        "    return X_train,X_test,y_train,y_test\n"
      ],
      "metadata": {
        "id": "zLXqaDNRsbE3"
      },
      "execution_count": null,
      "outputs": []
    },
    {
      "cell_type": "code",
      "source": [
        "#visualize\n",
        "def plot_prediction(actual, prediction = 0, title='Actual vs Prediction', y_label='Price USD', x_label='Trading Days'):\n",
        "    \n",
        "    fig = plt.figure()\n",
        "    ax = fig.add_subplot(111)\n",
        "\n",
        "    plt.ylabel(y_label)\n",
        "    plt.xlabel(x_label)\n",
        "\n",
        "    plt.plot(actual, label='Actual Close')\n",
        "    plt.plot(prediction,  label='Predicted Close')\n",
        "\n",
        "    ax.set_title(title)\n",
        "    ax.legend(loc='upper left')\n",
        "\n",
        "    plt.show()"
      ],
      "metadata": {
        "id": "rhLUtUTWOWV7"
      },
      "execution_count": null,
      "outputs": []
    },
    {
      "cell_type": "code",
      "source": [
        "data = normalize_data(stock_data)\n",
        "\n",
        "# create date parameters(for time series model)\n",
        "dates = pd.DataFrame(np.arange(len(data)))\n",
        "data['dates'] = pd.DataFrame(np.arange(len(data)))\n",
        "\n",
        "# create SMA parameters of 30 days(for SMA model)\n",
        "data['day_30'] = data.close.rolling(30, win_type='triang').mean()\n",
        "data = data[30:]\n",
        "data.head()\n",
        "\n",
        "#to build time series model, change features into ['date']\n",
        "features = ['day_30']\n",
        "target = ['close']\n",
        "\n",
        "#split data set\n",
        "X_train, X_test, y_train, y_test = split_data_linear(data[features], data[target],0.1)\n",
        "\n",
        "#check the training set and test set\n",
        "print(\"X_train\",X_train.shape)\n",
        "print(\"y_train\",y_train.shape)\n",
        "print('X_test',X_test.shape)\n",
        "print('y_test',y_test.shape)\n",
        "\n",
        "#build linear model\n",
        "model_linear = linear_model.LinearRegression()\n",
        "model_linear.fit(X_train, y_train)\n",
        "\n",
        "#prediction\n",
        "predictions = model_linear.predict(X_test)\n",
        "y_test = y_test.to_numpy().flatten()\n",
        "\n",
        "#visualize\n",
        "plot_prediction(y_test, predictions)\n",
        "\n",
        "#accuray\n",
        "rms = mean_squared_error(y_test, predictions, squared=False)\n",
        "mape = mean_absolute_percentage_error(y_test, predictions)\n",
        "print('RMSE: '+'%.4f' % rms)\n",
        "print('MAPE: '+'%.4f' % mape)\n"
      ],
      "metadata": {
        "colab": {
          "base_uri": "https://localhost:8080/",
          "height": 397
        },
        "id": "7gy_D1JHClDC",
        "outputId": "2bda91a6-b0ce-41d1-e219-a15b950330dc"
      },
      "execution_count": null,
      "outputs": [
        {
          "output_type": "stream",
          "name": "stdout",
          "text": [
            "X_train (4644, 1)\n",
            "y_train (4644, 1)\n",
            "X_test (516, 1)\n",
            "y_test (516, 1)\n"
          ]
        },
        {
          "output_type": "display_data",
          "data": {
            "text/plain": [
              "<Figure size 432x288 with 1 Axes>"
            ],
            "image/png": "[encoded data removed]"
          },
          "metadata": {
            "needs_background": "light"
          }
        },
        {
          "output_type": "stream",
          "name": "stdout",
          "text": [
            "RMSE: 0.0401\n",
            "MAPE: 0.0494\n"
          ]
        }
      ]
    },
    {
      "cell_type": "markdown",
      "source": [
        "To solve the problems in linear regression model, we implement LSTM model. First, we\n",
        "dropped some variables, and only consider the opening, closing prices and volume as those\n",
        "are the most important parameters. If we get a higher closing price than the opening price by\n",
        "the end of day, we make profit, otherwise we lose money. The volume of share also matters, as\n",
        "a rising volume indicate a rising market, while increasing stock price with a decreasing volume\n",
        "shows lack of interest, and may imply a potential loss in the future.\n",
        "\n",
        " We pass the last\n",
        "60 days of the data for training the model and output the predicted closing price. As we can\n",
        "see from the figure, predicting done by LSTM performs a better fitting than LSTM with higher\n",
        "accuracy  but there is still space for improvement.\n",
        "In our model, we perform three ways to improve the LSTM model:\n",
        "\n",
        "\n",
        "*   Add hidden layer: adding stacked multi-layers is for extracting more abstract information.\n",
        "\n",
        "*   Add Dropout: adding dropout is a regular method to reduce overfitting and improving model performance.\n",
        "*   Increase epochs: epochs is the times that the learning algorithm will work through the entire training  dataset. "
      ],
      "metadata": {
        "id": "8nQafZaZvxs-"
      }
    },
    {
      "cell_type": "code",
      "source": [
        "#split training set and test set for LSTM\n",
        "def split_data_lstm(data,test_size, step, prediction):\n",
        "  tmp = test_size + step + 1\n",
        "\n",
        "  X_train = data[0:-prediction - tmp].to_numpy()\n",
        "  y_train = data[prediction : - tmp]['close'].to_numpy()\n",
        "  X_test = data[0 - tmp : -prediction].to_numpy()\n",
        "  y_test = data[prediction - tmp : ]['close'].to_numpy()\n",
        "\n",
        "  return X_train,y_train,X_test,y_test\n",
        "\n",
        "#change the shape\n",
        "def reshape_data_lstm(data,step):\n",
        "  res = []\n",
        "  for i in range(len(data) - step):\n",
        "    res.append(data[i : i + step])\n",
        "  return np.asarray(res)\n",
        "\n",
        "#build basic LSTM\n",
        "def build_basic_model(input_dim, output_dim):\n",
        "    model = Sequential()\n",
        "    model.add(LSTM(input_shape=(None, input_dim),units=output_dim,return_sequences=False))\n",
        "    model.add(LSTM(100,return_sequences=False))\n",
        "    model.add(Dense(units=1))\n",
        "    model.add(Activation('linear'))\n",
        "    plot_model(model, show_shapes=True, show_layer_names=True)\n",
        "    return model\n",
        "\n",
        "#build improved LSTM\n",
        "def build_model(input_dim, output_dim):\n",
        "  model = Sequential()\n",
        "  model.add(LSTM(input_shape = (None, input_dim),units = output_dim, return_sequences = True))\n",
        "  model.add(Dropout(0.2))\n",
        "  model.add(LSTM(128, return_sequences=False))\n",
        "  model.add(Dropout(0.2))\n",
        "  model.add(Dense(units = 1))\n",
        "  model.add(Activation('linear'))\n",
        "  plot_model(model, show_shapes=True, show_layer_names=True)\n",
        "  return model"
      ],
      "metadata": {
        "id": "rLjtieeSmqcN"
      },
      "execution_count": null,
      "outputs": []
    },
    {
      "cell_type": "code",
      "source": [
        "data = normalize_data(stock_data)\n",
        "\n",
        "#some parameters for LSTM\n",
        "test_size = int (data.shape[0] / 10)\n",
        "step = 60\n",
        "prediction = 1\n",
        "\n",
        "#split data set\n",
        "X_train, y_train, X_test, y_test = split_data_lstm(data, test_size, step, prediction)\n",
        "X_train = reshape_data_lstm(X_train, step)\n",
        "X_test = reshape_data_lstm(X_test, step)\n",
        "y_train = y_train[-X_train.shape[0]:]\n",
        "y_test = y_test[-X_test.shape[0]:]\n",
        "\n",
        "#check the training set and test set\n",
        "print(\"x_train\", X_train.shape)\n",
        "print(\"y_train\", y_train.shape)\n",
        "print(\"x_test\", X_test.shape)\n",
        "print(\"y_test\", y_test.shape)"
      ],
      "metadata": {
        "colab": {
          "base_uri": "https://localhost:8080/"
        },
        "id": "jwcbTBkxwwZv",
        "outputId": "5f61bc03-c66c-4f37-e281-e1b76882ce89"
      },
      "execution_count": null,
      "outputs": [
        {
          "output_type": "stream",
          "name": "stdout",
          "text": [
            "x_train (4549, 60, 3)\n",
            "y_train (4549,)\n",
            "x_test (519, 60, 3)\n",
            "y_test (519,)\n"
          ]
        }
      ]
    },
    {
      "cell_type": "code",
      "source": [
        "#change the model function name here\n",
        "model = build_model(X_train.shape[-1],step)\n",
        "\n",
        "#compile the model\n",
        "model.compile(loss='mean_squared_error', optimizer='adam')\n",
        "model.fit(X_train, y_train, batch_size=100,epochs=100,verbose=2,validation_split=0.05)\n"
      ],
      "metadata": {
        "colab": {
          "base_uri": "https://localhost:8080/"
        },
        "id": "m_oZJJKKOzTJ",
        "outputId": "5c5a10a1-a2bb-4ed7-dc1d-467f74d4a72d"
      },
      "execution_count": null,
      "outputs": [
        {
          "output_type": "stream",
          "name": "stdout",
          "text": [
            "Epoch 1/100\n",
            "43/43 - 20s - loss: 0.0023 - val_loss: 0.0012 - 20s/epoch - 459ms/step\n",
            "Epoch 2/100\n",
            "43/43 - 15s - loss: 1.6799e-04 - val_loss: 2.1403e-04 - 15s/epoch - 358ms/step\n",
            "Epoch 3/100\n",
            "43/43 - 15s - loss: 1.3569e-04 - val_loss: 1.6415e-04 - 15s/epoch - 358ms/step\n",
            "Epoch 4/100\n",
            "43/43 - 15s - loss: 1.1662e-04 - val_loss: 1.8091e-04 - 15s/epoch - 355ms/step\n",
            "Epoch 5/100\n",
            "43/43 - 15s - loss: 1.1412e-04 - val_loss: 1.6473e-04 - 15s/epoch - 355ms/step\n",
            "Epoch 6/100\n",
            "43/43 - 15s - loss: 1.1503e-04 - val_loss: 1.5399e-04 - 15s/epoch - 355ms/step\n",
            "Epoch 7/100\n",
            "43/43 - 16s - loss: 1.0548e-04 - val_loss: 2.8164e-04 - 16s/epoch - 361ms/step\n",
            "Epoch 8/100\n",
            "43/43 - 15s - loss: 1.0214e-04 - val_loss: 1.6097e-04 - 15s/epoch - 357ms/step\n",
            "Epoch 9/100\n",
            "43/43 - 15s - loss: 9.3445e-05 - val_loss: 1.7936e-04 - 15s/epoch - 357ms/step\n",
            "Epoch 10/100\n",
            "43/43 - 15s - loss: 1.0715e-04 - val_loss: 2.9724e-04 - 15s/epoch - 357ms/step\n",
            "Epoch 11/100\n",
            "43/43 - 15s - loss: 9.7195e-05 - val_loss: 1.9190e-04 - 15s/epoch - 357ms/step\n",
            "Epoch 12/100\n",
            "43/43 - 15s - loss: 9.5991e-05 - val_loss: 3.7572e-04 - 15s/epoch - 355ms/step\n",
            "Epoch 13/100\n",
            "43/43 - 15s - loss: 9.3647e-05 - val_loss: 4.9607e-04 - 15s/epoch - 360ms/step\n",
            "Epoch 14/100\n",
            "43/43 - 15s - loss: 9.3451e-05 - val_loss: 1.4535e-04 - 15s/epoch - 357ms/step\n",
            "Epoch 15/100\n",
            "43/43 - 15s - loss: 9.4216e-05 - val_loss: 1.6597e-04 - 15s/epoch - 356ms/step\n",
            "Epoch 16/100\n",
            "43/43 - 15s - loss: 9.6720e-05 - val_loss: 1.5754e-04 - 15s/epoch - 359ms/step\n",
            "Epoch 17/100\n",
            "43/43 - 15s - loss: 8.9297e-05 - val_loss: 1.6503e-04 - 15s/epoch - 356ms/step\n",
            "Epoch 18/100\n",
            "43/43 - 15s - loss: 8.6085e-05 - val_loss: 1.4569e-04 - 15s/epoch - 355ms/step\n",
            "Epoch 19/100\n",
            "43/43 - 15s - loss: 8.2566e-05 - val_loss: 1.4028e-04 - 15s/epoch - 357ms/step\n",
            "Epoch 20/100\n",
            "43/43 - 15s - loss: 8.1244e-05 - val_loss: 1.7703e-04 - 15s/epoch - 358ms/step\n",
            "Epoch 21/100\n",
            "43/43 - 18s - loss: 8.6799e-05 - val_loss: 2.2053e-04 - 18s/epoch - 428ms/step\n",
            "Epoch 22/100\n",
            "43/43 - 15s - loss: 9.4204e-05 - val_loss: 2.1844e-04 - 15s/epoch - 354ms/step\n",
            "Epoch 23/100\n",
            "43/43 - 15s - loss: 7.3795e-05 - val_loss: 1.9208e-04 - 15s/epoch - 352ms/step\n",
            "Epoch 24/100\n",
            "43/43 - 15s - loss: 8.2959e-05 - val_loss: 1.3619e-04 - 15s/epoch - 356ms/step\n",
            "Epoch 25/100\n",
            "43/43 - 15s - loss: 7.1836e-05 - val_loss: 1.3413e-04 - 15s/epoch - 356ms/step\n",
            "Epoch 26/100\n",
            "43/43 - 15s - loss: 8.4989e-05 - val_loss: 1.5421e-04 - 15s/epoch - 357ms/step\n",
            "Epoch 27/100\n",
            "43/43 - 15s - loss: 8.0406e-05 - val_loss: 1.5130e-04 - 15s/epoch - 355ms/step\n",
            "Epoch 28/100\n",
            "43/43 - 15s - loss: 6.9791e-05 - val_loss: 1.4660e-04 - 15s/epoch - 357ms/step\n",
            "Epoch 29/100\n",
            "43/43 - 15s - loss: 6.9021e-05 - val_loss: 1.9012e-04 - 15s/epoch - 355ms/step\n",
            "Epoch 30/100\n",
            "43/43 - 15s - loss: 7.6942e-05 - val_loss: 1.4608e-04 - 15s/epoch - 358ms/step\n",
            "Epoch 31/100\n",
            "43/43 - 15s - loss: 7.7078e-05 - val_loss: 1.2792e-04 - 15s/epoch - 355ms/step\n",
            "Epoch 32/100\n",
            "43/43 - 15s - loss: 7.4807e-05 - val_loss: 1.7176e-04 - 15s/epoch - 357ms/step\n",
            "Epoch 33/100\n",
            "43/43 - 15s - loss: 7.3402e-05 - val_loss: 1.7684e-04 - 15s/epoch - 357ms/step\n",
            "Epoch 34/100\n",
            "43/43 - 15s - loss: 7.2791e-05 - val_loss: 1.9380e-04 - 15s/epoch - 358ms/step\n",
            "Epoch 35/100\n",
            "43/43 - 15s - loss: 7.2982e-05 - val_loss: 2.0444e-04 - 15s/epoch - 356ms/step\n",
            "Epoch 36/100\n",
            "43/43 - 18s - loss: 7.7888e-05 - val_loss: 7.7065e-04 - 18s/epoch - 410ms/step\n",
            "Epoch 37/100\n",
            "43/43 - 15s - loss: 7.1791e-05 - val_loss: 1.5109e-04 - 15s/epoch - 357ms/step\n",
            "Epoch 38/100\n",
            "43/43 - 15s - loss: 6.1114e-05 - val_loss: 1.2892e-04 - 15s/epoch - 357ms/step\n",
            "Epoch 39/100\n",
            "43/43 - 15s - loss: 6.8819e-05 - val_loss: 1.3464e-04 - 15s/epoch - 356ms/step\n",
            "Epoch 40/100\n",
            "43/43 - 17s - loss: 6.1787e-05 - val_loss: 2.3579e-04 - 17s/epoch - 393ms/step\n",
            "Epoch 41/100\n",
            "43/43 - 15s - loss: 6.2731e-05 - val_loss: 1.2117e-04 - 15s/epoch - 357ms/step\n",
            "Epoch 42/100\n",
            "43/43 - 15s - loss: 6.7482e-05 - val_loss: 1.7635e-04 - 15s/epoch - 354ms/step\n",
            "Epoch 43/100\n",
            "43/43 - 15s - loss: 6.2174e-05 - val_loss: 1.1722e-04 - 15s/epoch - 355ms/step\n",
            "Epoch 44/100\n",
            "43/43 - 15s - loss: 6.1909e-05 - val_loss: 1.1670e-04 - 15s/epoch - 356ms/step\n",
            "Epoch 45/100\n",
            "43/43 - 15s - loss: 7.0068e-05 - val_loss: 1.9408e-04 - 15s/epoch - 356ms/step\n",
            "Epoch 46/100\n",
            "43/43 - 15s - loss: 6.0472e-05 - val_loss: 1.9125e-04 - 15s/epoch - 355ms/step\n",
            "Epoch 47/100\n",
            "43/43 - 15s - loss: 6.7853e-05 - val_loss: 1.1473e-04 - 15s/epoch - 356ms/step\n",
            "Epoch 48/100\n",
            "43/43 - 15s - loss: 6.3973e-05 - val_loss: 1.3469e-04 - 15s/epoch - 354ms/step\n",
            "Epoch 49/100\n",
            "43/43 - 15s - loss: 5.7888e-05 - val_loss: 1.7092e-04 - 15s/epoch - 356ms/step\n",
            "Epoch 50/100\n",
            "43/43 - 15s - loss: 6.0932e-05 - val_loss: 1.3461e-04 - 15s/epoch - 354ms/step\n",
            "Epoch 51/100\n",
            "43/43 - 15s - loss: 5.7778e-05 - val_loss: 1.2836e-04 - 15s/epoch - 357ms/step\n",
            "Epoch 52/100\n",
            "43/43 - 15s - loss: 5.8422e-05 - val_loss: 1.2242e-04 - 15s/epoch - 355ms/step\n",
            "Epoch 53/100\n",
            "43/43 - 15s - loss: 6.0526e-05 - val_loss: 1.1402e-04 - 15s/epoch - 356ms/step\n",
            "Epoch 54/100\n",
            "43/43 - 15s - loss: 6.0550e-05 - val_loss: 1.2406e-04 - 15s/epoch - 356ms/step\n",
            "Epoch 55/100\n",
            "43/43 - 15s - loss: 5.8563e-05 - val_loss: 1.4616e-04 - 15s/epoch - 357ms/step\n",
            "Epoch 56/100\n",
            "43/43 - 15s - loss: 6.5666e-05 - val_loss: 1.1003e-04 - 15s/epoch - 358ms/step\n",
            "Epoch 57/100\n",
            "43/43 - 15s - loss: 5.5081e-05 - val_loss: 1.0813e-04 - 15s/epoch - 353ms/step\n",
            "Epoch 58/100\n",
            "43/43 - 15s - loss: 5.4682e-05 - val_loss: 1.1304e-04 - 15s/epoch - 355ms/step\n",
            "Epoch 59/100\n",
            "43/43 - 15s - loss: 6.0626e-05 - val_loss: 2.1258e-04 - 15s/epoch - 355ms/step\n",
            "Epoch 60/100\n",
            "43/43 - 15s - loss: 5.7878e-05 - val_loss: 2.0513e-04 - 15s/epoch - 356ms/step\n",
            "Epoch 61/100\n",
            "43/43 - 15s - loss: 5.6182e-05 - val_loss: 1.2402e-04 - 15s/epoch - 359ms/step\n",
            "Epoch 62/100\n",
            "43/43 - 15s - loss: 5.4134e-05 - val_loss: 1.4035e-04 - 15s/epoch - 356ms/step\n",
            "Epoch 63/100\n",
            "43/43 - 15s - loss: 5.6816e-05 - val_loss: 1.1208e-04 - 15s/epoch - 356ms/step\n",
            "Epoch 64/100\n",
            "43/43 - 15s - loss: 5.5490e-05 - val_loss: 1.1327e-04 - 15s/epoch - 355ms/step\n",
            "Epoch 65/100\n",
            "43/43 - 15s - loss: 5.4176e-05 - val_loss: 1.3309e-04 - 15s/epoch - 357ms/step\n",
            "Epoch 66/100\n",
            "43/43 - 15s - loss: 5.1841e-05 - val_loss: 1.0656e-04 - 15s/epoch - 356ms/step\n",
            "Epoch 67/100\n",
            "43/43 - 19s - loss: 4.9006e-05 - val_loss: 1.2536e-04 - 19s/epoch - 444ms/step\n",
            "Epoch 68/100\n",
            "43/43 - 15s - loss: 5.8361e-05 - val_loss: 1.5083e-04 - 15s/epoch - 357ms/step\n",
            "Epoch 69/100\n",
            "43/43 - 15s - loss: 5.5403e-05 - val_loss: 1.0397e-04 - 15s/epoch - 354ms/step\n",
            "Epoch 70/100\n",
            "43/43 - 15s - loss: 5.3108e-05 - val_loss: 1.1192e-04 - 15s/epoch - 353ms/step\n",
            "Epoch 71/100\n",
            "43/43 - 15s - loss: 5.1129e-05 - val_loss: 1.0109e-04 - 15s/epoch - 356ms/step\n",
            "Epoch 72/100\n",
            "43/43 - 15s - loss: 5.3397e-05 - val_loss: 1.0359e-04 - 15s/epoch - 353ms/step\n",
            "Epoch 73/100\n",
            "43/43 - 15s - loss: 5.6652e-05 - val_loss: 1.4194e-04 - 15s/epoch - 356ms/step\n",
            "Epoch 74/100\n",
            "43/43 - 15s - loss: 6.2087e-05 - val_loss: 2.7067e-04 - 15s/epoch - 353ms/step\n",
            "Epoch 75/100\n",
            "43/43 - 15s - loss: 5.2787e-05 - val_loss: 1.8757e-04 - 15s/epoch - 357ms/step\n",
            "Epoch 76/100\n",
            "43/43 - 15s - loss: 4.9507e-05 - val_loss: 1.1762e-04 - 15s/epoch - 355ms/step\n",
            "Epoch 77/100\n",
            "43/43 - 15s - loss: 5.0127e-05 - val_loss: 1.0671e-04 - 15s/epoch - 357ms/step\n",
            "Epoch 78/100\n",
            "43/43 - 17s - loss: 5.1935e-05 - val_loss: 2.1053e-04 - 17s/epoch - 407ms/step\n",
            "Epoch 79/100\n",
            "43/43 - 15s - loss: 5.5084e-05 - val_loss: 2.2314e-04 - 15s/epoch - 355ms/step\n",
            "Epoch 80/100\n",
            "43/43 - 15s - loss: 5.3211e-05 - val_loss: 2.7954e-04 - 15s/epoch - 354ms/step\n",
            "Epoch 81/100\n",
            "43/43 - 15s - loss: 5.6741e-05 - val_loss: 2.3989e-04 - 15s/epoch - 355ms/step\n",
            "Epoch 82/100\n",
            "43/43 - 15s - loss: 5.7012e-05 - val_loss: 9.7193e-05 - 15s/epoch - 357ms/step\n",
            "Epoch 83/100\n",
            "43/43 - 15s - loss: 5.2331e-05 - val_loss: 2.6705e-04 - 15s/epoch - 354ms/step\n",
            "Epoch 84/100\n",
            "43/43 - 15s - loss: 4.9814e-05 - val_loss: 1.2905e-04 - 15s/epoch - 358ms/step\n",
            "Epoch 85/100\n",
            "43/43 - 15s - loss: 5.4009e-05 - val_loss: 2.3344e-04 - 15s/epoch - 356ms/step\n",
            "Epoch 86/100\n",
            "43/43 - 15s - loss: 5.4356e-05 - val_loss: 1.0718e-04 - 15s/epoch - 356ms/step\n",
            "Epoch 87/100\n",
            "43/43 - 15s - loss: 4.7965e-05 - val_loss: 1.6294e-04 - 15s/epoch - 353ms/step\n",
            "Epoch 88/100\n",
            "43/43 - 15s - loss: 5.4105e-05 - val_loss: 9.7092e-05 - 15s/epoch - 355ms/step\n",
            "Epoch 89/100\n",
            "43/43 - 15s - loss: 5.1763e-05 - val_loss: 1.6913e-04 - 15s/epoch - 356ms/step\n",
            "Epoch 90/100\n",
            "43/43 - 15s - loss: 4.8926e-05 - val_loss: 1.5339e-04 - 15s/epoch - 357ms/step\n",
            "Epoch 91/100\n",
            "43/43 - 15s - loss: 4.8609e-05 - val_loss: 1.5315e-04 - 15s/epoch - 353ms/step\n",
            "Epoch 92/100\n",
            "43/43 - 15s - loss: 5.2042e-05 - val_loss: 1.0218e-04 - 15s/epoch - 355ms/step\n",
            "Epoch 93/100\n",
            "43/43 - 15s - loss: 5.5063e-05 - val_loss: 8.9885e-05 - 15s/epoch - 353ms/step\n",
            "Epoch 94/100\n",
            "43/43 - 15s - loss: 5.0995e-05 - val_loss: 1.2989e-04 - 15s/epoch - 355ms/step\n",
            "Epoch 95/100\n",
            "43/43 - 15s - loss: 5.1454e-05 - val_loss: 1.0966e-04 - 15s/epoch - 354ms/step\n",
            "Epoch 96/100\n",
            "43/43 - 15s - loss: 5.8753e-05 - val_loss: 1.1590e-04 - 15s/epoch - 354ms/step\n",
            "Epoch 97/100\n",
            "43/43 - 15s - loss: 5.1388e-05 - val_loss: 1.0136e-04 - 15s/epoch - 355ms/step\n",
            "Epoch 98/100\n",
            "43/43 - 15s - loss: 5.4768e-05 - val_loss: 8.9142e-05 - 15s/epoch - 354ms/step\n",
            "Epoch 99/100\n",
            "43/43 - 15s - loss: 5.0868e-05 - val_loss: 1.2314e-04 - 15s/epoch - 354ms/step\n",
            "Epoch 100/100\n",
            "43/43 - 15s - loss: 4.8763e-05 - val_loss: 8.9696e-05 - 15s/epoch - 357ms/step\n"
          ]
        },
        {
          "output_type": "execute_result",
          "data": {
            "text/plain": [
              "<keras.callbacks.History at 0x7fd30a99a4d0>"
            ]
          },
          "metadata": {},
          "execution_count": 38
        }
      ]
    },
    {
      "cell_type": "code",
      "source": [
        "#display\n",
        "predictions_lstm = model.predict(X_test, batch_size=100)\n",
        "\n",
        "plot_prediction(y_test,predictions_lstm)\n",
        "\n",
        "rms = mean_squared_error(y_test, predictions_lstm, squared=False)\n",
        "mape = mean_absolute_percentage_error(y_test, predictions_lstm)\n",
        "print('RMSE: '+'%.4f' % rms)\n",
        "print('MAPE: '+'%.4f' % mape)\n"
      ],
      "metadata": {
        "colab": {
          "base_uri": "https://localhost:8080/",
          "height": 329
        },
        "id": "P7AP8_4wRQH2",
        "outputId": "69497a11-af9d-4eeb-b5ee-c4a2a6c4efce"
      },
      "execution_count": null,
      "outputs": [
        {
          "output_type": "display_data",
          "data": {
            "text/plain": [
              "<Figure size 432x288 with 1 Axes>"
            ],
            "image/png": "[encoded data removed]"
          },
          "metadata": {
            "needs_background": "light"
          }
        },
        {
          "output_type": "stream",
          "name": "stdout",
          "text": [
            "RMSE: 0.0229\n",
            "MAPE: 0.0272\n"
          ]
        }
      ]
    }
  ]
}